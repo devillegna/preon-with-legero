{
 "cells": [
  {
   "cell_type": "code",
   "execution_count": 23,
   "metadata": {},
   "outputs": [],
   "source": [
    "class merkeltreecommit:\n",
    "    def __init__(self, mesg_byte = 24 , mesg_len = 2**16 , hash_byte = 32 , leaf_padding_byte = 32 ):\n",
    "        self.hash_byte = hash_byte\n",
    "        self.leaf_padding_byte = leaf_padding_byte\n",
    "        self.mesg_byte = mesg_byte\n",
    "        assert( 0==(mesg_len&(mesg_len-1)) )   # mesg_len is a power of 2\n",
    "        self.mesg_len   = mesg_len\n",
    "\n",
    "    @staticmethod\n",
    "    def authpath_len( leaf_size ):\n",
    "        r = 0\n",
    "        layer_size = leaf_size\n",
    "        while(layer_size > 1):\n",
    "            r += 1\n",
    "            layer_size //= 2\n",
    "        return r\n",
    "\n",
    "    def get_proof_size(self):\n",
    "        r = self.mesg_byte + self.leaf_padding_byte\n",
    "        r += merkeltreecommit.authpath_len( self.mesg_len ) * self.hash_byte\n",
    "        return r\n",
    "    \n",
    "    def states(self):\n",
    "        r = vars(self)\n",
    "        r['authpath_len'] = merkeltreecommit.authpath_len(self.mesg_len)\n",
    "        r['proof_size']  = self.get_proof_size()\n",
    "        return r\n"
   ]
  },
  {
   "cell_type": "code",
   "execution_count": 24,
   "metadata": {},
   "outputs": [
    {
     "name": "stdout",
     "output_type": "stream",
     "text": [
      "|auth path|: 16\n",
      "size(auth path): 568\n",
      "{'hash_byte': 32, 'leaf_padding_byte': 32, 'mesg_byte': 24, 'mesg_len': 65536, 'authpath_len': 16, 'proof_size': 568}\n"
     ]
    }
   ],
   "source": [
    "mc0 = merkeltreecommit()\n",
    "print( \"|auth path|:\" , mc0.authpath_len( mc0.mesg_len ) )\n",
    "print( \"size(auth path):\" , mc0.get_proof_size() )\n",
    "print( mc0.states() )"
   ]
  },
  {
   "cell_type": "code",
   "execution_count": 5,
   "metadata": {},
   "outputs": [],
   "source": [
    "class fri :\n",
    "    def __init__(self, field_byte = 24 , hash_byte = 32 , poly_len = 2**16 ):\n",
    "        self.fielf_byte = field_byte\n",
    "        self.hash_byte  = hash_byte\n",
    "        assert( 0==(poly_len&(poly_len-1)) )   # poly_len is a power of 2\n",
    "        self.poly_len   = poly_len\n",
    "\n",
    "    def get_proof_size(self):\n",
    "        return 0"
   ]
  },
  {
   "cell_type": "code",
   "execution_count": 6,
   "metadata": {},
   "outputs": [
    {
     "name": "stdout",
     "output_type": "stream",
     "text": [
      "0\n"
     ]
    }
   ],
   "source": [
    "pc0 = fri()\n",
    "print( pc0.get_proof_size() )"
   ]
  },
  {
   "cell_type": "code",
   "execution_count": null,
   "metadata": {},
   "outputs": [],
   "source": []
  },
  {
   "cell_type": "code",
   "execution_count": null,
   "metadata": {},
   "outputs": [],
   "source": []
  },
  {
   "cell_type": "code",
   "execution_count": null,
   "metadata": {},
   "outputs": [],
   "source": []
  }
 ],
 "metadata": {
  "kernelspec": {
   "display_name": "Python 3",
   "language": "python",
   "name": "python3"
  },
  "language_info": {
   "codemirror_mode": {
    "name": "ipython",
    "version": 3
   },
   "file_extension": ".py",
   "mimetype": "text/x-python",
   "name": "python",
   "nbconvert_exporter": "python",
   "pygments_lexer": "ipython3",
   "version": "3.10.12"
  }
 },
 "nbformat": 4,
 "nbformat_minor": 2
}
