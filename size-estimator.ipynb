{
 "cells": [
  {
   "cell_type": "code",
   "execution_count": 3,
   "metadata": {},
   "outputs": [],
   "source": [
    "class merkeltreecommit:\n",
    "    def __init__(self, mesg_byte = 24 , mesg_len = 2**16 , hash_byte = 32 , leaf_padding_byte = 32 ):\n",
    "        self.hash_byte = hash_byte\n",
    "        self.leaf_padding_byte = leaf_padding_byte\n",
    "        self.mesg_byte = mesg_byte\n",
    "        assert( 0==(mesg_len&(mesg_len-1)) )   # mesg_len is a power of 2\n",
    "        self.mesg_len   = mesg_len\n",
    "\n",
    "    @staticmethod\n",
    "    def authpath_len( leaf_size ):\n",
    "        r = 0\n",
    "        layer_size = leaf_size\n",
    "        while(layer_size > 1):\n",
    "            r += 1\n",
    "            layer_size //= 2\n",
    "        return r\n",
    "    \n",
    "    @property\n",
    "    def len_authpath(self): return merkeltreecommit.authpath_len(self.mesg_len)\n",
    " \n",
    "    def get_size_root(self): return self.hash_byte\n",
    "\n",
    "    def get_size_leaf(self): return self.mesg_byte + self.leaf_padding_byte\n",
    "\n",
    "    def get_size_proof(self, num_query=1):\n",
    "        r = self.get_size_root()\n",
    "        r += num_query * self.get_size_leaf() \n",
    "        r += num_query * merkeltreecommit.authpath_len( self.mesg_len ) * self.hash_byte\n",
    "        return r\n",
    "    \n",
    "    def states(self):\n",
    "        r = vars(self)\n",
    "        r['authpath_len'] = merkeltreecommit.authpath_len(self.mesg_len)\n",
    "        r['proof_size']  = self.get_size_proof()\n",
    "        return r\n"
   ]
  },
  {
   "cell_type": "code",
   "execution_count": 4,
   "metadata": {},
   "outputs": [
    {
     "name": "stdout",
     "output_type": "stream",
     "text": [
      "|auth path|: 16\n",
      "size(auth path): 600\n",
      "{'hash_byte': 32, 'leaf_padding_byte': 32, 'mesg_byte': 24, 'mesg_len': 65536, 'authpath_len': 16, 'proof_size': 600}\n"
     ]
    }
   ],
   "source": [
    "mc0 = merkeltreecommit()\n",
    "print( \"|auth path|:\" , mc0.len_authpath )\n",
    "print( \"size(auth path):\" , mc0.get_size_proof() )\n",
    "print( mc0.states() )"
   ]
  },
  {
   "cell_type": "code",
   "execution_count": 10,
   "metadata": {},
   "outputs": [],
   "source": [
    "class fri :\n",
    "\n",
    "    # polys:  [ f_w , f_Az , f_Bz , f_Cz , f_r , f_rLDT ]  , [ f_h ]\n",
    "    def __init__(self, field_byte = 24 , hash_byte = 32 , poly_len = 2**14 , num_polys = [ 6 ,1 ], code_rate = 32 , num_query = 26 ):\n",
    "        self.field_byte = field_byte\n",
    "        self.hash_byte  = hash_byte\n",
    "        assert( 0==(poly_len&(poly_len-1)) )   # poly_len is a power of 2\n",
    "        self.poly_len   = poly_len\n",
    "        self.num_polys = num_polys\n",
    "        self.code_rate  = code_rate\n",
    "        self.num_query  = num_query\n",
    "\n",
    "    def get_size_proof(self):\n",
    "        r = 0\n",
    "        plen = self.poly_len\n",
    "        # first layer\n",
    "        for np in self.num_polys :\n",
    "           mt0 = merkeltreecommit( mesg_byte=self.field_byte*np , mesg_len = plen*self.code_rate , hash_byte=self.hash_byte , leaf_padding_byte = 32 )\n",
    "           r += mt0.get_size_proof( self.num_query )\n",
    "        plen //= 2\n",
    "        # i-th layer\n",
    "        while( plen > 1 ):\n",
    "            mt = merkeltreecommit( mesg_byte=self.field_byte , mesg_len = plen*self.code_rate , hash_byte=self.hash_byte , leaf_padding_byte = 32 )\n",
    "            r += mt.get_size_proof( self.num_query )\n",
    "            plen //= 2\n",
    "        # plen == 1\n",
    "        r += self.field_byte\n",
    "        return r\n",
    "    \n",
    "    def states(self):\n",
    "        r = vars(self)\n",
    "        r['proof_size']  = self.get_size_proof()\n",
    "        return r"
   ]
  },
  {
   "cell_type": "code",
   "execution_count": 11,
   "metadata": {},
   "outputs": [
    {
     "name": "stdout",
     "output_type": "stream",
     "text": [
      "186872\n",
      "{'field_byte': 24, 'hash_byte': 32, 'poly_len': 16384, 'num_polys': [6, 1], 'code_rate': 32, 'num_query': 26, 'proof_size': 186872}\n"
     ]
    }
   ],
   "source": [
    "pc0 = fri()\n",
    "print( pc0.get_size_proof() )\n",
    "print( pc0.states() )"
   ]
  },
  {
   "cell_type": "code",
   "execution_count": 20,
   "metadata": {},
   "outputs": [],
   "source": [
    "class ligero :\n",
    "    # polys:  [ f_w , f_Az , f_Bz , f_Cz , f_r ]  , [ f_h , f_g ]\n",
    "    def __init__(self, field_byte = 24 , hash_byte = 32 , poly_len = 2**14 , num_polys = [ 5 ,2 ],  num_segments = 1 , code_rate = 32 , num_query = 26 ):\n",
    "        self.field_byte = field_byte\n",
    "        self.hash_byte  = hash_byte\n",
    "        assert( 0==(poly_len&(poly_len-1)) )   # poly_len is a power of 2\n",
    "        self.poly_len   = poly_len\n",
    "        self.num_polys = num_polys\n",
    "        self.num_segments = num_segments\n",
    "        self.code_rate  = code_rate\n",
    "        self.num_query  = num_query\n",
    "\n",
    "    def get_size_proof(self):\n",
    "        r = 0\n",
    "        p_seg_len = self.poly_len // self.num_segments\n",
    "        # first layer\n",
    "        for np in self.num_polys :\n",
    "           mt0 = merkeltreecommit( mesg_byte=self.field_byte*self.num_segments*np , mesg_len = p_seg_len*self.code_rate , hash_byte=self.hash_byte , leaf_padding_byte = 32 )\n",
    "           r += p_seg_len * self.field_byte\n",
    "           r += mt0.get_size_proof( self.num_query )\n",
    "        return r\n",
    "    \n",
    "    def states(self):\n",
    "        r = vars(self)\n",
    "        r['proof_size']  = self.get_size_proof()\n",
    "        return r"
   ]
  },
  {
   "cell_type": "code",
   "execution_count": 21,
   "metadata": {},
   "outputs": [
    {
     "name": "stdout",
     "output_type": "stream",
     "text": [
      "824144\n",
      "{'field_byte': 24, 'hash_byte': 32, 'poly_len': 16384, 'num_polys': [5, 2], 'num_segments': 1, 'code_rate': 32, 'num_query': 26, 'proof_size': 824144}\n"
     ]
    }
   ],
   "source": [
    "pc1 = ligero()\n",
    "print( pc1.get_size_proof() )\n",
    "print( pc1.states() )"
   ]
  },
  {
   "cell_type": "code",
   "execution_count": 22,
   "metadata": {},
   "outputs": [
    {
     "name": "stdout",
     "output_type": "stream",
     "text": [
      "{'field_byte': 24, 'hash_byte': 32, 'poly_len': 16384, 'num_polys': [5, 2], 'num_segments': 1, 'code_rate': 32, 'num_query': 26, 'proof_size': 824144}\n",
      "{'field_byte': 24, 'hash_byte': 32, 'poly_len': 16384, 'num_polys': [5, 2], 'num_segments': 2, 'code_rate': 32, 'num_query': 26, 'proof_size': 433632}\n",
      "{'field_byte': 24, 'hash_byte': 32, 'poly_len': 16384, 'num_polys': [5, 2], 'num_segments': 4, 'code_rate': 32, 'num_query': 26, 'proof_size': 244096}\n",
      "{'field_byte': 24, 'hash_byte': 32, 'poly_len': 16384, 'num_polys': [5, 2], 'num_segments': 8, 'code_rate': 32, 'num_query': 26, 'proof_size': 161600}\n",
      "{'field_byte': 24, 'hash_byte': 32, 'poly_len': 16384, 'num_polys': [5, 2], 'num_segments': 16, 'code_rate': 32, 'num_query': 26, 'proof_size': 145728}\n",
      "{'field_byte': 24, 'hash_byte': 32, 'poly_len': 16384, 'num_polys': [5, 2], 'num_segments': 32, 'code_rate': 32, 'num_query': 26, 'proof_size': 189376}\n",
      "{'field_byte': 24, 'hash_byte': 32, 'poly_len': 16384, 'num_polys': [5, 2], 'num_segments': 64, 'code_rate': 32, 'num_query': 26, 'proof_size': 315200}\n",
      "{'field_byte': 24, 'hash_byte': 32, 'poly_len': 16384, 'num_polys': [5, 2], 'num_segments': 128, 'code_rate': 32, 'num_query': 26, 'proof_size': 586944}\n",
      "{'field_byte': 24, 'hash_byte': 32, 'poly_len': 16384, 'num_polys': [5, 2], 'num_segments': 256, 'code_rate': 32, 'num_query': 26, 'proof_size': 1141312}\n",
      "{'field_byte': 24, 'hash_byte': 32, 'poly_len': 16384, 'num_polys': [5, 2], 'num_segments': 512, 'code_rate': 32, 'num_query': 26, 'proof_size': 2256320}\n",
      "{'field_byte': 24, 'hash_byte': 32, 'poly_len': 16384, 'num_polys': [5, 2], 'num_segments': 1024, 'code_rate': 32, 'num_query': 26, 'proof_size': 4490304}\n",
      "{'field_byte': 24, 'hash_byte': 32, 'poly_len': 16384, 'num_polys': [5, 2], 'num_segments': 2048, 'code_rate': 32, 'num_query': 26, 'proof_size': 8961088}\n",
      "{'field_byte': 24, 'hash_byte': 32, 'poly_len': 16384, 'num_polys': [5, 2], 'num_segments': 4096, 'code_rate': 32, 'num_query': 26, 'proof_size': 17904896}\n"
     ]
    }
   ],
   "source": [
    "for i in range(13):\n",
    "    num_segments = 1<<i\n",
    "    pc = ligero( field_byte=24, hash_byte=32, poly_len=2**14 , num_polys = [5,2] , num_segments=num_segments , code_rate=32, num_query=26 )\n",
    "    print( pc.states() )"
   ]
  },
  {
   "cell_type": "code",
   "execution_count": null,
   "metadata": {},
   "outputs": [],
   "source": []
  }
 ],
 "metadata": {
  "kernelspec": {
   "display_name": "Python 3",
   "language": "python",
   "name": "python3"
  },
  "language_info": {
   "codemirror_mode": {
    "name": "ipython",
    "version": 3
   },
   "file_extension": ".py",
   "mimetype": "text/x-python",
   "name": "python",
   "nbconvert_exporter": "python",
   "pygments_lexer": "ipython3",
   "version": "3.10.12"
  }
 },
 "nbformat": 4,
 "nbformat_minor": 2
}
